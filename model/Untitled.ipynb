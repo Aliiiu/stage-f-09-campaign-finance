{
 "cells": [
  {
   "cell_type": "code",
   "execution_count": 1,
   "metadata": {},
   "outputs": [],
   "source": [
    "import numpy as np\n",
    "import matplotlib.pyplot as plt\n",
    "import pandas as pd\n",
    "import seaborn as sns"
   ]
  },
  {
   "cell_type": "code",
   "execution_count": 17,
   "metadata": {},
   "outputs": [
    {
     "data": {
      "text/html": [
       "<div>\n",
       "<style scoped>\n",
       "    .dataframe tbody tr th:only-of-type {\n",
       "        vertical-align: middle;\n",
       "    }\n",
       "\n",
       "    .dataframe tbody tr th {\n",
       "        vertical-align: top;\n",
       "    }\n",
       "\n",
       "    .dataframe thead th {\n",
       "        text-align: right;\n",
       "    }\n",
       "</style>\n",
       "<table border=\"1\" class=\"dataframe\">\n",
       "  <thead>\n",
       "    <tr style=\"text-align: right;\">\n",
       "      <th></th>\n",
       "      <th>can_id</th>\n",
       "      <th>can_nam</th>\n",
       "      <th>can_off</th>\n",
       "      <th>can_off_sta</th>\n",
       "      <th>can_off_dis</th>\n",
       "      <th>can_par_aff</th>\n",
       "      <th>can_inc_cha_ope_sea</th>\n",
       "      <th>can_cit</th>\n",
       "      <th>can_sta</th>\n",
       "      <th>can_zip</th>\n",
       "      <th>cov_sta_dat</th>\n",
       "      <th>cov_end_dat</th>\n",
       "      <th>ind_con</th>\n",
       "      <th>net_ope_exp</th>\n",
       "      <th>tot_con</th>\n",
       "      <th>tot_dis</th>\n",
       "      <th>net_con</th>\n",
       "      <th>ope_exp</th>\n",
       "      <th>tot_rec</th>\n",
       "      <th>winner</th>\n",
       "    </tr>\n",
       "  </thead>\n",
       "  <tbody>\n",
       "    <tr>\n",
       "      <th>0</th>\n",
       "      <td>H2GA12121</td>\n",
       "      <td>ALLEN, RICHARD W</td>\n",
       "      <td>H</td>\n",
       "      <td>GA</td>\n",
       "      <td>12.0</td>\n",
       "      <td>REP</td>\n",
       "      <td>INCUMBENT</td>\n",
       "      <td>AUGUSTA</td>\n",
       "      <td>GA</td>\n",
       "      <td>30904.0</td>\n",
       "      <td>1/1/2015</td>\n",
       "      <td>10/19/2016</td>\n",
       "      <td>601274.50</td>\n",
       "      <td>907156.21</td>\n",
       "      <td>1074949.50</td>\n",
       "      <td>978518.98</td>\n",
       "      <td>1074949.50</td>\n",
       "      <td>908518.98</td>\n",
       "      <td>1094022.76</td>\n",
       "      <td>Y</td>\n",
       "    </tr>\n",
       "    <tr>\n",
       "      <th>1</th>\n",
       "      <td>H6PA02171</td>\n",
       "      <td>EVANS, DWIGHT</td>\n",
       "      <td>H</td>\n",
       "      <td>PA</td>\n",
       "      <td>2.0</td>\n",
       "      <td>DEM</td>\n",
       "      <td>CHALLENGER</td>\n",
       "      <td>PHILADELPHIA</td>\n",
       "      <td>PA</td>\n",
       "      <td>19138.0</td>\n",
       "      <td>11/2/2015</td>\n",
       "      <td>10/19/2016</td>\n",
       "      <td>1114711.02</td>\n",
       "      <td>1298831.83</td>\n",
       "      <td>1417545.22</td>\n",
       "      <td>1313583.69</td>\n",
       "      <td>1406719.06</td>\n",
       "      <td>1300557.53</td>\n",
       "      <td>1419270.92</td>\n",
       "      <td>Y</td>\n",
       "    </tr>\n",
       "    <tr>\n",
       "      <th>2</th>\n",
       "      <td>H6FL04105</td>\n",
       "      <td>RUTHERFORD, JOHN</td>\n",
       "      <td>H</td>\n",
       "      <td>FL</td>\n",
       "      <td>4.0</td>\n",
       "      <td>REP</td>\n",
       "      <td>OPEN</td>\n",
       "      <td>JACKSONVILLE</td>\n",
       "      <td>FL</td>\n",
       "      <td>32224.0</td>\n",
       "      <td>4/1/2016</td>\n",
       "      <td>10/19/2016</td>\n",
       "      <td>542105.38</td>\n",
       "      <td>656210.29</td>\n",
       "      <td>650855.38</td>\n",
       "      <td>675642.76</td>\n",
       "      <td>650855.38</td>\n",
       "      <td>656642.76</td>\n",
       "      <td>711287.85</td>\n",
       "      <td>Y</td>\n",
       "    </tr>\n",
       "  </tbody>\n",
       "</table>\n",
       "</div>"
      ],
      "text/plain": [
       "      can_id           can_nam can_off can_off_sta  can_off_dis can_par_aff  \\\n",
       "0  H2GA12121  ALLEN, RICHARD W       H          GA         12.0         REP   \n",
       "1  H6PA02171     EVANS, DWIGHT       H          PA          2.0         DEM   \n",
       "2  H6FL04105  RUTHERFORD, JOHN       H          FL          4.0         REP   \n",
       "\n",
       "  can_inc_cha_ope_sea       can_cit can_sta  can_zip cov_sta_dat cov_end_dat  \\\n",
       "0           INCUMBENT       AUGUSTA      GA  30904.0    1/1/2015  10/19/2016   \n",
       "1          CHALLENGER  PHILADELPHIA      PA  19138.0   11/2/2015  10/19/2016   \n",
       "2                OPEN  JACKSONVILLE      FL  32224.0    4/1/2016  10/19/2016   \n",
       "\n",
       "      ind_con  net_ope_exp     tot_con     tot_dis     net_con     ope_exp  \\\n",
       "0   601274.50    907156.21  1074949.50   978518.98  1074949.50   908518.98   \n",
       "1  1114711.02   1298831.83  1417545.22  1313583.69  1406719.06  1300557.53   \n",
       "2   542105.38    656210.29   650855.38   675642.76   650855.38   656642.76   \n",
       "\n",
       "      tot_rec winner  \n",
       "0  1094022.76      Y  \n",
       "1  1419270.92      Y  \n",
       "2   711287.85      Y  "
      ]
     },
     "execution_count": 17,
     "metadata": {},
     "output_type": "execute_result"
    }
   ],
   "source": [
    "import os\n",
    "#os.getcwd()\n",
    "df = pd.read_csv('C:\\\\Users\\\\Aliiu\\\\Documents\\\\GitHub\\\\stage-f-09-campaign-finance\\\\data\\\\new_project_data1.csv')\n",
    "df.head(3)"
   ]
  },
  {
   "cell_type": "code",
   "execution_count": 18,
   "metadata": {},
   "outputs": [
    {
     "name": "stdout",
     "output_type": "stream",
     "text": [
      "N    1087\n",
      "Y     464\n",
      "Name: winner, dtype: int64\n",
      "Winners 464\n",
      "Loosers 1087\n"
     ]
    }
   ],
   "source": [
    "print(df.winner.value_counts())\n",
    "#l,w=df.winner.value_counts()\n",
    "print('Winners', w)\n",
    "print('Loosers',l)\n"
   ]
  },
  {
   "cell_type": "code",
   "execution_count": 19,
   "metadata": {},
   "outputs": [
    {
     "data": {
      "image/png": "[encoded data removed]",
      "text/plain": [
       "<Figure size 432x288 with 1 Axes>"
      ]
     },
     "metadata": {
      "needs_background": "light"
     },
     "output_type": "display_data"
    }
   ],
   "source": [
    "sns.countplot(x='winner', data=df, palette='hls')\n",
    "plt.savefig('imb.jpg')\n",
    "plt.show()"
   ]
  },
  {
   "cell_type": "code",
   "execution_count": 20,
   "metadata": {},
   "outputs": [
    {
     "data": {
      "text/plain": [
       "0    1.0\n",
       "1    1.0\n",
       "2    1.0\n",
       "3    1.0\n",
       "4    1.0\n",
       "Name: winner, dtype: float64"
      ]
     },
     "execution_count": 20,
     "metadata": {},
     "output_type": "execute_result"
    }
   ],
   "source": [
    "df['winner'] = df['winner'].apply(lambda val: float(int(val=='Y')))\n",
    "df.winner.head()"
   ]
  },
  {
   "cell_type": "code",
   "execution_count": 21,
   "metadata": {},
   "outputs": [],
   "source": [
    "x_unbal = df[['ind_con','net_ope_exp','tot_con','tot_dis','net_con','ope_exp','tot_rec']]\n",
    "y_unbal =df.winner"
   ]
  },
  {
   "cell_type": "code",
   "execution_count": null,
   "metadata": {},
   "outputs": [],
   "source": [
    "from sklearn.model_selection import train_test_split,cross_val_score\n",
    "from sklearn.linear_model import LogisticRegression\n",
    "from sklearn.preprocessing import StandardScaler  \n",
    "\n",
    "x_train, x_test, y_train, y_test = train_test_split(x_unbal, y_unbal, test_size=0.3, random_state=4)\n",
    "ss = StandardScaler() \n",
    "x_train = ss.fit_transform(x_train) \n",
    "x_train = pd.DataFrame(x_train)\n",
    "x_test = ss.transform(x_test)\n",
    "\n",
    "lreg = LogisticRegression()\n",
    "lreg.fit(x_train, y_train)\n",
    "y_pred = lreg.predict(x_test)\n",
    "print('Accuracy {:.2f}'.format(lreg.score(x_test, y_test)))\n",
    "\n",
    "cross_val_scores = cross_val_score(lreg, x_train,y_train, cv=10,scoring='accuracy').mean()\n",
    "# print('cross validation score',cross_val_scores)\n",
    "\n",
    "from sklearn.metrics import classification_report\n",
    "print(classification_report(y_test, y_pred)) \n",
    "\n",
    "from sklearn.metrics import confusion_matrix\n",
    "confusion_matrix = confusion_matrix(y_test, y_pred)\n",
    "print(confusion_matrix)"
   ]
  }
 ],
 "metadata": {
  "kernelspec": {
   "display_name": "Python 3",
   "language": "python",
   "name": "python3"
  },
  "language_info": {
   "codemirror_mode": {
    "name": "ipython",
    "version": 3
   },
   "file_extension": ".py",
   "mimetype": "text/x-python",
   "name": "python",
   "nbconvert_exporter": "python",
   "pygments_lexer": "ipython3",
   "version": "3.8.3"
  }
 },
 "nbformat": 4,
 "nbformat_minor": 4
}
